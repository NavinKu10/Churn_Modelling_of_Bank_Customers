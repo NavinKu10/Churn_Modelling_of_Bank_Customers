{
  "nbformat": 4,
  "nbformat_minor": 0,
  "metadata": {
    "colab": {
      "name": "Untitled5.ipynb",
      "version": "0.3.2",
      "provenance": [],
      "collapsed_sections": []
    },
    "kernelspec": {
      "name": "python3",
      "display_name": "Python 3"
    },
    "accelerator": "GPU"
  },
  "cells": [
    {
      "metadata": {
        "id": "8Q4JB8fDNcMm",
        "colab_type": "code",
        "colab": {}
      },
      "cell_type": "code",
      "source": [
        "!pip install -U -q kaggle\n",
        "!mkdir -p ~/.kaggle\n",
        "from google.colab import files\n",
        "files.upload()"
      ],
      "execution_count": 0,
      "outputs": []
    },
    {
      "metadata": {
        "id": "diOZjCx1PUpI",
        "colab_type": "code",
        "colab": {}
      },
      "cell_type": "code",
      "source": [
        "!cp kaggle.json ~/.kaggle/"
      ],
      "execution_count": 0,
      "outputs": []
    },
    {
      "metadata": {
        "id": "O4aAked0QljA",
        "colab_type": "code",
        "colab": {
          "base_uri": "https://localhost:8080/",
          "height": 72
        },
        "outputId": "f22628db-ffb3-4fc6-d568-eb3ecbba82bc"
      },
      "cell_type": "code",
      "source": [
        "!kaggle datasets download -d hj5992/bank-churn-modelling"
      ],
      "execution_count": 7,
      "outputs": [
        {
          "output_type": "stream",
          "text": [
            "Warning: Your Kaggle API key is readable by other users on this system! To fix this, you can run 'chmod 600 /root/.kaggle/kaggle.json'\n",
            "bank-churn-modelling.zip: Skipping, found more recently modified local copy (use --force to force download)\n"
          ],
          "name": "stdout"
        }
      ]
    },
    {
      "metadata": {
        "id": "VqZSijq7RFcr",
        "colab_type": "code",
        "colab": {}
      },
      "cell_type": "code",
      "source": [
        "!chmod 600 /root/.kaggle/kaggle.json\n"
      ],
      "execution_count": 0,
      "outputs": []
    },
    {
      "metadata": {
        "id": "px75RaM5RnkL",
        "colab_type": "code",
        "colab": {}
      },
      "cell_type": "code",
      "source": [
        "import pandas as pd\n",
        "import numpy as np\n",
        "import matplotlib.pyplot as plt"
      ],
      "execution_count": 0,
      "outputs": []
    },
    {
      "metadata": {
        "id": "rkN5-nwuRIHq",
        "colab_type": "code",
        "colab": {}
      },
      "cell_type": "code",
      "source": [
        "from zipfile import ZipFile\n",
        "zip_file = ZipFile('/content/bank-churn-modelling.zip')\n"
      ],
      "execution_count": 0,
      "outputs": []
    },
    {
      "metadata": {
        "id": "Hrucutp9RzBd",
        "colab_type": "code",
        "colab": {}
      },
      "cell_type": "code",
      "source": [
        "df=pd.read_csv(zip_file.open('Churn_Modelling.csv'))"
      ],
      "execution_count": 0,
      "outputs": []
    },
    {
      "metadata": {
        "id": "ShzHxvcNR21p",
        "colab_type": "code",
        "colab": {}
      },
      "cell_type": "code",
      "source": [
        "df.head(5)"
      ],
      "execution_count": 0,
      "outputs": []
    },
    {
      "metadata": {
        "id": "YFrN8ppKSC2i",
        "colab_type": "code",
        "colab": {}
      },
      "cell_type": "code",
      "source": [
        "df.dtypes"
      ],
      "execution_count": 0,
      "outputs": []
    },
    {
      "metadata": {
        "id": "JytNCPiJSNsS",
        "colab_type": "code",
        "colab": {}
      },
      "cell_type": "code",
      "source": [
        "df = df.drop(columns = [\"RowNumber\", \"CustomerId\", \"Surname\"])"
      ],
      "execution_count": 0,
      "outputs": []
    },
    {
      "metadata": {
        "id": "iVi-S5wsSoww",
        "colab_type": "code",
        "colab": {}
      },
      "cell_type": "code",
      "source": [
        "df.head(5)"
      ],
      "execution_count": 0,
      "outputs": []
    },
    {
      "metadata": {
        "id": "lrSYvd6ySr2U",
        "colab_type": "code",
        "colab": {
          "base_uri": "https://localhost:8080/",
          "height": 280
        },
        "outputId": "df3f9b5f-9aa7-4f54-f0a7-608746c93bbb"
      },
      "cell_type": "code",
      "source": [
        "#feature scaling\n",
        "!pip install category_encoders\n",
        "import category_encoders as ce\n",
        "encoder  = ce.BinaryEncoder(cols = ['Geography', 'Gender'])\n",
        "df_binary = encoder.fit_transform(df)"
      ],
      "execution_count": 16,
      "outputs": [
        {
          "output_type": "stream",
          "text": [
            "Collecting category_encoders\n",
            "\u001b[?25l  Downloading https://files.pythonhosted.org/packages/f7/d3/82a4b85a87ece114f6d0139d643580c726efa45fa4db3b81aed38c0156c5/category_encoders-1.3.0-py2.py3-none-any.whl (61kB)\n",
            "\u001b[K    100% |████████████████████████████████| 61kB 1.8MB/s \n",
            "\u001b[?25hRequirement already satisfied: scipy>=0.17.0 in /usr/local/lib/python3.6/dist-packages (from category_encoders) (1.1.0)\n",
            "Requirement already satisfied: numpy>=1.11.1 in /usr/local/lib/python3.6/dist-packages (from category_encoders) (1.14.6)\n",
            "Requirement already satisfied: scikit-learn>=0.17.1 in /usr/local/lib/python3.6/dist-packages (from category_encoders) (0.20.3)\n",
            "Requirement already satisfied: statsmodels>=0.6.1 in /usr/local/lib/python3.6/dist-packages (from category_encoders) (0.8.0)\n",
            "Requirement already satisfied: patsy>=0.4.1 in /usr/local/lib/python3.6/dist-packages (from category_encoders) (0.5.1)\n",
            "Requirement already satisfied: pandas>=0.20.1 in /usr/local/lib/python3.6/dist-packages (from category_encoders) (0.22.0)\n",
            "Requirement already satisfied: six in /usr/local/lib/python3.6/dist-packages (from patsy>=0.4.1->category_encoders) (1.11.0)\n",
            "Requirement already satisfied: python-dateutil>=2 in /usr/local/lib/python3.6/dist-packages (from pandas>=0.20.1->category_encoders) (2.5.3)\n",
            "Requirement already satisfied: pytz>=2011k in /usr/local/lib/python3.6/dist-packages (from pandas>=0.20.1->category_encoders) (2018.9)\n",
            "Installing collected packages: category-encoders\n",
            "Successfully installed category-encoders-1.3.0\n"
          ],
          "name": "stdout"
        }
      ]
    },
    {
      "metadata": {
        "id": "mYNI-eI7Sr7W",
        "colab_type": "code",
        "colab": {}
      },
      "cell_type": "code",
      "source": [
        "df_binary.head(5)"
      ],
      "execution_count": 0,
      "outputs": []
    },
    {
      "metadata": {
        "id": "t40323tVSr-P",
        "colab_type": "code",
        "colab": {}
      },
      "cell_type": "code",
      "source": [
        "y = df_binary.iloc[:, 13].values\n",
        "x = df_binary.iloc[:, 0:13].values"
      ],
      "execution_count": 0,
      "outputs": []
    },
    {
      "metadata": {
        "id": "aS1-NHw7SsER",
        "colab_type": "code",
        "colab": {}
      },
      "cell_type": "code",
      "source": [
        "from sklearn.preprocessing import StandardScaler\n",
        "sc = StandardScaler()\n",
        "x = sc.fit_transform(x)\n"
      ],
      "execution_count": 0,
      "outputs": []
    },
    {
      "metadata": {
        "id": "1PW800JoSr5L",
        "colab_type": "code",
        "colab": {}
      },
      "cell_type": "code",
      "source": [
        "from sklearn.model_selection import train_test_split\n",
        "x_train, x_test, y_train, y_test = train_test_split(x, y, test_size = 0.025, random_state = 0)\n",
        "x_train, x_dev, y_train, y_dev = train_test_split(x_train, y_train, test_size = 0.025, random_state = 0)"
      ],
      "execution_count": 0,
      "outputs": []
    },
    {
      "metadata": {
        "id": "1b3v8e97WIxS",
        "colab_type": "code",
        "colab": {
          "base_uri": "https://localhost:8080/",
          "height": 34
        },
        "outputId": "e5fb593e-15e4-4a75-b88e-a99f3ed64f9a"
      },
      "cell_type": "code",
      "source": [
        "import tensorflow as tf\n",
        "import tensorflow.keras \n",
        "\n",
        "from keras.models import Sequential\n",
        "from keras.layers import Dense"
      ],
      "execution_count": 21,
      "outputs": [
        {
          "output_type": "stream",
          "text": [
            "Using TensorFlow backend.\n"
          ],
          "name": "stderr"
        }
      ]
    },
    {
      "metadata": {
        "id": "ytP27jkrWI_M",
        "colab_type": "code",
        "colab": {}
      },
      "cell_type": "code",
      "source": [
        "#k-fold on dev set\n",
        "\n",
        "from sklearn.model_selection import StratifiedKFold\n",
        "kfold = StratifiedKFold(n_splits=10, shuffle=True, random_state=1)\n",
        "acc = []\n",
        "for train, test in kfold.split(x_dev, y_dev):\n",
        "  cf = Sequential()\n",
        "  cf.add(Dense(output_dim = 8, init = 'uniform', activation = 'relu', input_dim = 13))\n",
        "  cf.add(Dense(output_dim = 4, init = 'uniform', activation = 'relu'))\n",
        "  cf.add(Dense(output_dim = 8, init = 'uniform', activation = 'relu'))\n",
        "  cf.add(Dense(output_dim = 1, init = 'uniform', activation = 'sigmoid'))\n",
        "  cf.compile(optimizer = 'adam', loss = 'binary_crossentropy', metrics = ['accuracy'])\n",
        "  cf.fit(x_dev[train], y_dev[train], batch_size = 10, nb_epoch = 25)\n",
        "  scores = cf.evaluate(x_dev[test], y_dev[test], verbose=0)\n",
        "  acc.append(scores[1] * 100)"
      ],
      "execution_count": 0,
      "outputs": []
    },
    {
      "metadata": {
        "id": "1DNspwmr_O0y",
        "colab_type": "code",
        "colab": {
          "base_uri": "https://localhost:8080/",
          "height": 1062
        },
        "outputId": "b330ff92-7d57-421e-aaf7-268e51d3296e"
      },
      "cell_type": "code",
      "source": [
        "  cf = Sequential()\n",
        "  cf.add(Dense(output_dim = 16, init = 'uniform', activation = 'relu', input_dim = 13))\n",
        "  cf.add(Dense(output_dim = 8, init = 'uniform', activation = 'relu', input_dim = 16))\n",
        "  cf.add(Dense(output_dim = 1, init = 'uniform', activation = 'sigmoid'))\n",
        "  cf.compile(optimizer = 'adam', loss = 'binary_crossentropy', metrics = ['accuracy'])\n",
        "  cf.fit(x_train, y_train, batch_size = 10, nb_epoch = 25)"
      ],
      "execution_count": 25,
      "outputs": [
        {
          "output_type": "stream",
          "text": [
            "/usr/local/lib/python3.6/dist-packages/ipykernel_launcher.py:2: UserWarning: Update your `Dense` call to the Keras 2 API: `Dense(activation=\"relu\", input_dim=13, units=16, kernel_initializer=\"uniform\")`\n",
            "  \n",
            "/usr/local/lib/python3.6/dist-packages/ipykernel_launcher.py:3: UserWarning: Update your `Dense` call to the Keras 2 API: `Dense(activation=\"relu\", input_dim=16, units=8, kernel_initializer=\"uniform\")`\n",
            "  This is separate from the ipykernel package so we can avoid doing imports until\n",
            "/usr/local/lib/python3.6/dist-packages/ipykernel_launcher.py:4: UserWarning: Update your `Dense` call to the Keras 2 API: `Dense(activation=\"sigmoid\", units=1, kernel_initializer=\"uniform\")`\n",
            "  after removing the cwd from sys.path.\n",
            "/usr/local/lib/python3.6/dist-packages/ipykernel_launcher.py:6: UserWarning: The `nb_epoch` argument in `fit` has been renamed `epochs`.\n",
            "  \n"
          ],
          "name": "stderr"
        },
        {
          "output_type": "stream",
          "text": [
            "Epoch 1/25\n",
            "9506/9506 [==============================] - 5s 524us/step - loss: 0.4593 - acc: 0.7964\n",
            "Epoch 2/25\n",
            "9506/9506 [==============================] - 4s 459us/step - loss: 0.4221 - acc: 0.8032\n",
            "Epoch 3/25\n",
            "9506/9506 [==============================] - 4s 459us/step - loss: 0.4165 - acc: 0.8268\n",
            "Epoch 4/25\n",
            "9506/9506 [==============================] - 4s 457us/step - loss: 0.4138 - acc: 0.8314\n",
            "Epoch 5/25\n",
            "9506/9506 [==============================] - 4s 462us/step - loss: 0.4108 - acc: 0.8327\n",
            "Epoch 6/25\n",
            "9506/9506 [==============================] - 4s 457us/step - loss: 0.4086 - acc: 0.8336\n",
            "Epoch 7/25\n",
            "9506/9506 [==============================] - 4s 459us/step - loss: 0.4051 - acc: 0.8351\n",
            "Epoch 8/25\n",
            "9506/9506 [==============================] - 4s 457us/step - loss: 0.4028 - acc: 0.8351\n",
            "Epoch 9/25\n",
            "9506/9506 [==============================] - 4s 455us/step - loss: 0.4003 - acc: 0.8355\n",
            "Epoch 10/25\n",
            "9506/9506 [==============================] - 4s 455us/step - loss: 0.3992 - acc: 0.8371\n",
            "Epoch 11/25\n",
            "9506/9506 [==============================] - 4s 460us/step - loss: 0.3983 - acc: 0.8351\n",
            "Epoch 12/25\n",
            "9506/9506 [==============================] - 4s 455us/step - loss: 0.3969 - acc: 0.8357\n",
            "Epoch 13/25\n",
            "9506/9506 [==============================] - 4s 458us/step - loss: 0.3953 - acc: 0.8395\n",
            "Epoch 14/25\n",
            "9506/9506 [==============================] - 4s 458us/step - loss: 0.3951 - acc: 0.8377\n",
            "Epoch 15/25\n",
            "9506/9506 [==============================] - 4s 456us/step - loss: 0.3942 - acc: 0.8393\n",
            "Epoch 16/25\n",
            "9506/9506 [==============================] - 4s 461us/step - loss: 0.3931 - acc: 0.8398\n",
            "Epoch 17/25\n",
            "9506/9506 [==============================] - 4s 456us/step - loss: 0.3917 - acc: 0.8390\n",
            "Epoch 18/25\n",
            "9506/9506 [==============================] - 4s 459us/step - loss: 0.3888 - acc: 0.8412\n",
            "Epoch 19/25\n",
            "9506/9506 [==============================] - 4s 459us/step - loss: 0.3829 - acc: 0.8435\n",
            "Epoch 20/25\n",
            "9506/9506 [==============================] - 4s 457us/step - loss: 0.3734 - acc: 0.8495\n",
            "Epoch 21/25\n",
            "9506/9506 [==============================] - 4s 456us/step - loss: 0.3645 - acc: 0.8489\n",
            "Epoch 22/25\n",
            "9506/9506 [==============================] - 4s 453us/step - loss: 0.3578 - acc: 0.8526\n",
            "Epoch 23/25\n",
            "9506/9506 [==============================] - 4s 454us/step - loss: 0.3536 - acc: 0.8551\n",
            "Epoch 24/25\n",
            "9506/9506 [==============================] - 4s 455us/step - loss: 0.3505 - acc: 0.8572\n",
            "Epoch 25/25\n",
            "9506/9506 [==============================] - 4s 459us/step - loss: 0.3479 - acc: 0.8576\n"
          ],
          "name": "stdout"
        },
        {
          "output_type": "execute_result",
          "data": {
            "text/plain": [
              "<keras.callbacks.History at 0x7fe2a3d17cc0>"
            ]
          },
          "metadata": {
            "tags": []
          },
          "execution_count": 25
        }
      ]
    },
    {
      "metadata": {
        "id": "6AVZcZ-scg_C",
        "colab_type": "code",
        "colab": {
          "base_uri": "https://localhost:8080/",
          "height": 34
        },
        "outputId": "8de2dc26-531b-42cc-a6bf-e462d1d89406"
      },
      "cell_type": "code",
      "source": [
        "np.mean(acc)\n",
        "\n"
      ],
      "execution_count": 23,
      "outputs": [
        {
          "output_type": "execute_result",
          "data": {
            "text/plain": [
              "79.92753744125366"
            ]
          },
          "metadata": {
            "tags": []
          },
          "execution_count": 23
        }
      ]
    },
    {
      "metadata": {
        "id": "X7Mk5tFichF-",
        "colab_type": "code",
        "colab": {
          "base_uri": "https://localhost:8080/",
          "height": 34
        },
        "outputId": "36c9e365-59ce-4cee-8292-d4f10ce9c62b"
      },
      "cell_type": "code",
      "source": [
        "np.std(acc)"
      ],
      "execution_count": 24,
      "outputs": [
        {
          "output_type": "execute_result",
          "data": {
            "text/plain": [
              "0.9762448386120193"
            ]
          },
          "metadata": {
            "tags": []
          },
          "execution_count": 24
        }
      ]
    },
    {
      "metadata": {
        "id": "yvI1UWHPchLM",
        "colab_type": "code",
        "colab": {}
      },
      "cell_type": "code",
      "source": [
        "y_pred = cf.predict(x_test)\n",
        "y_pred = (y_pred > 0.5)"
      ],
      "execution_count": 0,
      "outputs": []
    },
    {
      "metadata": {
        "id": "kBDBOmXuOj4b",
        "colab_type": "code",
        "colab": {}
      },
      "cell_type": "code",
      "source": [
        "from sklearn.metrics import confusion_matrix\n",
        "cm = confusion_matrix(y_test, y_pred)"
      ],
      "execution_count": 0,
      "outputs": []
    },
    {
      "metadata": {
        "id": "K08xTXSBO1PK",
        "colab_type": "code",
        "colab": {
          "base_uri": "https://localhost:8080/",
          "height": 52
        },
        "outputId": "5b2ad3cf-227a-4652-80db-b243e7181be8"
      },
      "cell_type": "code",
      "source": [
        "cm"
      ],
      "execution_count": 29,
      "outputs": [
        {
          "output_type": "execute_result",
          "data": {
            "text/plain": [
              "array([[185,  11],\n",
              "       [ 21,  33]])"
            ]
          },
          "metadata": {
            "tags": []
          },
          "execution_count": 29
        }
      ]
    },
    {
      "metadata": {
        "id": "BoGMHNOwO-i7",
        "colab_type": "code",
        "colab": {
          "base_uri": "https://localhost:8080/",
          "height": 34
        },
        "outputId": "b4510e3f-999d-4fa5-9366-65e8e5d8f982"
      },
      "cell_type": "code",
      "source": [
        "(185+33)/(185+33+33)"
      ],
      "execution_count": 31,
      "outputs": [
        {
          "output_type": "execute_result",
          "data": {
            "text/plain": [
              "0.8685258964143426"
            ]
          },
          "metadata": {
            "tags": []
          },
          "execution_count": 31
        }
      ]
    },
    {
      "metadata": {
        "id": "qCRvd-1-PPmV",
        "colab_type": "code",
        "colab": {
          "base_uri": "https://localhost:8080/",
          "height": 34
        },
        "outputId": "be702317-0d03-4b19-a184-5c78ee0022a3"
      },
      "cell_type": "code",
      "source": [
        "from sklearn import metrics\n",
        "print(metrics.accuracy_score(y_test, y_pred))"
      ],
      "execution_count": 35,
      "outputs": [
        {
          "output_type": "stream",
          "text": [
            "0.872\n"
          ],
          "name": "stdout"
        }
      ]
    },
    {
      "metadata": {
        "id": "Q2vyrYSdRMiW",
        "colab_type": "code",
        "colab": {}
      },
      "cell_type": "code",
      "source": [
        ""
      ],
      "execution_count": 0,
      "outputs": []
    },
    {
      "metadata": {
        "id": "T5Ohq6GTRMnU",
        "colab_type": "code",
        "colab": {}
      },
      "cell_type": "code",
      "source": [
        ""
      ],
      "execution_count": 0,
      "outputs": []
    },
    {
      "metadata": {
        "id": "Ev0NGH9tRM86",
        "colab_type": "code",
        "colab": {}
      },
      "cell_type": "code",
      "source": [
        ""
      ],
      "execution_count": 0,
      "outputs": []
    }
  ]
}